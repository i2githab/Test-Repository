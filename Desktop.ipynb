{
 "cells": [
  {
   "cell_type": "code",
   "execution_count": 1,
   "id": "a478ed3d",
   "metadata": {},
   "outputs": [],
   "source": [
    "l1=[1]"
   ]
  },
  {
   "cell_type": "code",
   "execution_count": 2,
   "id": "06085995",
   "metadata": {},
   "outputs": [
    {
     "name": "stdout",
     "output_type": "stream",
     "text": [
      "List >>> [1, 2]   ------>     Sum = 3.0    Len = 2    Ave = 1.5\n"
     ]
    }
   ],
   "source": [
    "a=len(l1)+1\n",
    "l1.append(a)\n",
    "b=((l1[0]+l1[a-1])*a)/2\n",
    "c=b/a\n",
    "print('List >>>',l1,'  ------>  ''   Sum =',b,'   Len =',a,'   Ave =',c)"
   ]
  },
  {
   "cell_type": "code",
   "execution_count": null,
   "id": "98f29f18",
   "metadata": {},
   "outputs": [],
   "source": []
  }
 ],
 "metadata": {
  "kernelspec": {
   "display_name": "Python 3 (ipykernel)",
   "language": "python",
   "name": "python3"
  },
  "language_info": {
   "codemirror_mode": {
    "name": "ipython",
    "version": 3
   },
   "file_extension": ".py",
   "mimetype": "text/x-python",
   "name": "python",
   "nbconvert_exporter": "python",
   "pygments_lexer": "ipython3",
   "version": "3.9.13"
  }
 },
 "nbformat": 4,
 "nbformat_minor": 5
}
